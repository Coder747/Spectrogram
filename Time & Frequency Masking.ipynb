{
 "cells": [
  {
   "cell_type": "code",
   "execution_count": null,
   "id": "running-christopher",
   "metadata": {},
   "outputs": [],
   "source": []
  },
  {
   "cell_type": "code",
   "execution_count": null,
   "id": "naked-survivor",
   "metadata": {},
   "outputs": [],
   "source": [
    "def load_files(folder_name):\n",
    "    audio_fpath = folder_name\n",
    "    files = librosa.util.find_files(audio_fpath, ext=['wav'])\n",
    "    files = np.asarray(files)\n",
    "    counter = 1\n",
    "\n",
    "    for y in files:\n",
    "        print(y)\n",
    "        wav, sr = librosa.load(y, sr=44100)\n",
    "        X = librosa.stft(data)\n",
    "        Xdb = librosa.amplitude_to_db(abs(X))\n",
    "        librosa.display.specshow(Xdb, sr=sr, x_axis='time', y_axis='hz')\n",
    "        #plt.colorbar()\n",
    "        plt.set_cmap('viridis')\n",
    "        plt.ylim((19700, 20300))\n",
    "        plt.xlim((1.3,2.7))\n",
    "        plt.axis('off')\n",
    "        #plt.savefig(\"Images_Mono/P/bot/P\" + str(counter) + \".png\",dpi=300)\n",
    "        counter+=1\n",
    "        plt.show()"
   ]
  }
 ],
 "metadata": {
  "kernelspec": {
   "display_name": "Python 3",
   "language": "python",
   "name": "python3"
  },
  "language_info": {
   "codemirror_mode": {
    "name": "ipython",
    "version": 3
   },
   "file_extension": ".py",
   "mimetype": "text/x-python",
   "name": "python",
   "nbconvert_exporter": "python",
   "pygments_lexer": "ipython3",
   "version": "3.8.7"
  }
 },
 "nbformat": 4,
 "nbformat_minor": 5
}
