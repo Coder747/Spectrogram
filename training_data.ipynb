{
 "cells": [
  {
   "cell_type": "code",
   "execution_count": 4,
   "metadata": {},
   "outputs": [],
   "source": [
    "#importing the libraries\n",
    "import os \n",
    "import cv2\n",
    "import numpy as np\n",
    "#np.random.seed(1337)\n",
    "import matplotlib.pyplot as plt"
   ]
  },
  {
   "cell_type": "code",
   "execution_count": 5,
   "metadata": {},
   "outputs": [],
   "source": [
    "#setting the path to the directory containing the pics\n",
    "dataset_dir = 'C:\\\\Users\\\\Admin-Group11\\\\Desktop\\\\Sonar_CNN\\\\Images'\n",
    "Classes = [\"LR\", \"RL\", \"P\", \"B\", \"UD\", \"DU\"]\n"
   ]
  },
  {
   "cell_type": "code",
   "execution_count": 6,
   "metadata": {},
   "outputs": [],
   "source": [
    "training_data = []\n",
    "Resolution = 100\n",
    "def create_training_data():\n",
    "    # count = 0\n",
    "    for category in Classes:\n",
    "        path = os.path.join(dataset_dir, category) #path to classes dir\n",
    "        #class_num=[]\n",
    "        #class_num = Classes[count]\n",
    "        class_num = Classes.index(category)# change class names into indexes\n",
    "        # count+=1\n",
    "        for img in os.listdir(path):\n",
    "            try:\n",
    "                pic = cv2.imread(os.path.join(path,img), cv2.IMREAD_GRAYSCALE)\n",
    "                new_pic = cv2.resize(pic, (Resolution, Resolution))\n",
    "                #pic = cv2.cvtColor(pic,cv2.COLOR_BGR2RGB)  #make image rgb\n",
    "                training_data.append([new_pic, class_num]) # map the pic to its label index\n",
    "                #plt.imshow(new_pic, cmap='gray')  # graph it\n",
    "                #plt.show()  # display!\n",
    "            except Exception as e:\n",
    "                print(str(e)+ \"pic darbet\")\n",
    "\n",
    "            #break\n",
    "        #break\n",
    "\n",
    "create_training_data()\n"
   ]
  },
  {
   "cell_type": "code",
   "execution_count": 7,
   "metadata": {},
   "outputs": [],
   "source": [
    "import random\n",
    "random.shuffle(training_data)"
   ]
  },
  {
   "cell_type": "code",
   "execution_count": 8,
   "metadata": {},
   "outputs": [
    {
     "name": "stdout",
     "output_type": "stream",
     "text": [
      "3\n",
      "5\n",
      "1\n",
      "4\n",
      "4\n",
      "2\n",
      "0\n",
      "4\n",
      "1\n",
      "4\n"
     ]
    }
   ],
   "source": [
    "for sample in training_data[:10]:\n",
    "    print(sample[1])"
   ]
  },
  {
   "cell_type": "code",
   "execution_count": 9,
   "metadata": {},
   "outputs": [],
   "source": [
    "X = []\n",
    "y = []\n"
   ]
  },
  {
   "cell_type": "code",
   "execution_count": 10,
   "metadata": {},
   "outputs": [],
   "source": [
    "for features, label in training_data:\n",
    "    X.append(features)\n",
    "    y.append(label)\n",
    "\n",
    "X = np.array(X).reshape(-1,Resolution,Resolution, 1)\n",
    "y = np.array(y)\n"
   ]
  },
  {
   "cell_type": "code",
   "execution_count": 11,
   "metadata": {},
   "outputs": [],
   "source": [
    "import pickle\n",
    "pickle_out = open(\"dataset_pickle\\X.pickle\",\"wb\")\n",
    "pickle.dump(X, pickle_out)\n",
    "pickle_out.close()\n",
    "\n",
    "pickle_out = open(\"dataset_pickle\\y.pickle\",\"wb\")\n",
    "pickle.dump(y, pickle_out)\n",
    "pickle_out.close()"
   ]
  },
  {
   "cell_type": "code",
   "execution_count": null,
   "metadata": {},
   "outputs": [],
   "source": []
  }
 ],
 "metadata": {
  "kernelspec": {
   "display_name": "Python 3",
   "language": "python",
   "name": "python3"
  },
  "language_info": {
   "codemirror_mode": {
    "name": "ipython",
    "version": 3
   },
   "file_extension": ".py",
   "mimetype": "text/x-python",
   "name": "python",
   "nbconvert_exporter": "python",
   "pygments_lexer": "ipython3",
   "version": "3.8.7"
  }
 },
 "nbformat": 4,
 "nbformat_minor": 4
}
