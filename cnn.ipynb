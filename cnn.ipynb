{
 "cells": [
  {
   "cell_type": "code",
   "execution_count": 1,
   "metadata": {},
   "outputs": [
    {
     "name": "stdout",
     "output_type": "stream",
     "text": [
      "(1920, 100, 100, 1)\n"
     ]
    }
   ],
   "source": [
    "import pickle\n",
    "pickle_in = open(\"dataset_pickle\\X.pickle\",\"rb\")\n",
    "X = pickle.load(pickle_in)\n",
    "\n",
    "X = X/255.0\n",
    "\n",
    "pickle_in = open(\"dataset_pickle\\y.pickle\",\"rb\")\n",
    "y = pickle.load(pickle_in)\n",
    "\n",
    "print(X.shape)"
   ]
  },
  {
   "cell_type": "code",
   "execution_count": 2,
   "metadata": {},
   "outputs": [],
   "source": [
    "#from sklearn.model_selection import train_test_split\n",
    "#x_train, x_test, y_train, y_test = train_test_split(X, y, test_size = 0.2,random_state=666)\n"
   ]
  },
  {
   "cell_type": "code",
   "execution_count": 3,
   "metadata": {},
   "outputs": [
    {
     "name": "stdout",
     "output_type": "stream",
     "text": [
      "2 Physical GPUs, 2 Logical GPUs\n",
      "INFO:tensorflow:Using MirroredStrategy with devices ('/job:localhost/replica:0/task:0/device:GPU:0', '/job:localhost/replica:0/task:0/device:GPU:1')\n"
     ]
    }
   ],
   "source": [
    "import tensorflow as tf\n",
    "\n",
    "gpus = tf.config.experimental.list_physical_devices('GPU')\n",
    "if gpus:\n",
    "  try:\n",
    "    # Currently, memory growth needs to be the same across GPUs\n",
    "    for gpu in gpus:\n",
    "      tf.config.experimental.set_memory_growth(gpu, True)\n",
    "    logical_gpus = tf.config.experimental.list_logical_devices('GPU')\n",
    "    print(len(gpus), \"Physical GPUs,\", len(logical_gpus), \"Logical GPUs\")\n",
    "  except RuntimeError as e:\n",
    "    # Memory growth must be set before GPUs have been initialized\n",
    "    print(e)\n",
    "#Setup Distrbuited training\n",
    "strategy = tf.distribute.MirroredStrategy(cross_device_ops=tf.distribute.HierarchicalCopyAllReduce())   #Enables"
   ]
  },
  {
   "cell_type": "code",
   "execution_count": null,
   "metadata": {
    "tags": []
   },
   "outputs": [],
   "source": [
    "from tensorflow.keras.preprocessing.image import ImageDataGenerator\n",
    "from tensorflow.keras.models import Sequential\n",
    "from tensorflow.keras import optimizers\n",
    "from tensorflow.keras.layers import Dense, Dropout, Activation, Flatten, Dropout #, GaussianNoise\n",
    "from tensorflow.keras.layers import Conv2D, MaxPooling2D, AveragePooling2D\n",
    "from tensorflow.keras import regularizers\n",
    "from keras.callbacks import ReduceLROnPlateau, ModelCheckpoint, EarlyStopping, CSVLogger, TensorBoard\n",
    "from sklearn.model_selection import StratifiedKFold #for K-fold cross validation\n",
    "import numpy\n",
    "\n",
    "\n",
    "tf.random.set_seed(42)\n",
    "\n",
    "Resolution = 100\n",
    "\n",
    "numpy.random.seed(7)\n",
    "kfold = StratifiedKFold(n_splits=5, shuffle=True, random_state=7)\n",
    "cvscores = []\n",
    "\n",
    "for train, test in kfold.split(X, y):\n",
    "    with strategy.scope():      #Enables multi-gpu\n",
    "        model = Sequential([\n",
    "            Conv2D(filters=32, kernel_size=(3, 3), padding=\"same\" ,activation='relu', input_shape=(Resolution, Resolution, 1)),\n",
    "            MaxPooling2D(pool_size=(1, 5), strides=(4)),\n",
    "\n",
    "            Conv2D(filters=32, kernel_size=(3, 3),padding=\"same\" , activation='relu'),\n",
    "            MaxPooling2D(pool_size=(1, 4), strides=(2)),\n",
    "\n",
    "            Conv2D(filters=32, kernel_size=(3, 3),padding=\"same\" , activation='relu'),\n",
    "            MaxPooling2D(pool_size=(1, 2), strides=(2)),\n",
    "\n",
    "            Conv2D(filters=32, kernel_size=(3, 3),padding=\"same\" , activation='relu'),\n",
    "            MaxPooling2D(pool_size=(2, 2), strides=(2)),\n",
    "\n",
    "            Conv2D(filters=32, kernel_size=(3, 3),padding=\"same\" , activation='relu'),\n",
    "            MaxPooling2D(pool_size=(1, 2), strides=(2)),\n",
    "\n",
    "            Flatten(),\n",
    "            #Dense(32, activation='relu'),\n",
    "\n",
    "            Dense(6, activation='softmax')\n",
    "        ])\n",
    "\n",
    "        model.compile(loss='sparse_categorical_crossentropy',\n",
    "                    optimizer=optimizers.Adam(learning_rate=0.001),                  #gradient descent\n",
    "                    metrics=['accuracy'])\n",
    "        lr_change = ReduceLROnPlateau(monitor=\"loss\", factor=0.5, patience=3, min_lr=0.000)\n",
    "        early_stopping = EarlyStopping(monitor='loss', min_delta=0.01, patience=10, mode='min')\n",
    "        callbacks = [lr_change,early_stopping]\n",
    "        history = model.fit(X[train], y[train], batch_size=16, epochs=200,callbacks=callbacks)\n",
    "        scores = model.evaluate(X[test], y[test], verbose=0)\n",
    "        print(\"%s: %.2f%%\" % (model.metrics_names[1], scores[1]*100))\n",
    "        cvscores.append(scores[1] * 100)\n",
    "print(\"%.2f%% (+/- %.2f%%)\" % (numpy.mean(cvscores), numpy.std(cvscores)))\n",
    "#model.summary()"
   ]
  },
  {
   "cell_type": "code",
   "execution_count": null,
   "metadata": {
    "scrolled": true,
    "tags": []
   },
   "outputs": [],
   "source": [
    "#history = model.fit(X, y, batch_size=16, epochs=200, validation_split=0.2,callbacks=callbacks)\n",
    "# history = model.fit(x_train, y_train, batch_size=16, epochs=200, validation_data=(x_test,y_test),callbacks=callbacks)"
   ]
  },
  {
   "cell_type": "code",
   "execution_count": null,
   "metadata": {},
   "outputs": [],
   "source": [
    "import matplotlib.pyplot as plt\n",
    "plt.plot(history.history['accuracy'], label='accuracy')\n",
    "plt.plot(history.history['val_accuracy'], label = 'val_accuracy')\n",
    "plt.xlabel('Epoch')\n",
    "plt.ylabel('Accuracy')\n",
    "plt.ylim([0.5, 1])\n",
    "plt.legend(loc='lower right')\n",
    "\n",
    "test_loss, test_acc = model.evaluate(X,  y, verbose=2)\n",
    "preds = model.evaluate(X, y,verbose=1, sample_weight=None)"
   ]
  },
  {
   "cell_type": "code",
   "execution_count": null,
   "metadata": {},
   "outputs": [],
   "source": [
    "model.save(\"models\\model_habd.h5\")\n",
    "print(\"model saved\")"
   ]
  },
  {
   "cell_type": "code",
   "execution_count": null,
   "metadata": {},
   "outputs": [],
   "source": [
    "from keras.models import load_model\n",
    "# load model\n",
    "model = load_model('models\\model_habd.h5')\n",
    "# summarize model.\n",
    "#model.summary()"
   ]
  },
  {
   "cell_type": "code",
   "execution_count": null,
   "metadata": {},
   "outputs": [],
   "source": [
    "# evaluate the model\n",
    "import pickle\n",
    "pickle_in = open(\"dataset_pickle\\X_user2.pickle\",\"rb\")\n",
    "X_test = pickle.load(pickle_in)\n",
    "\n",
    "pickle_in = open(\"dataset_pickle\\y_user2.pickle\",\"rb\")\n",
    "y_test = pickle.load(pickle_in)\n",
    "\n",
    "X_test = X_test/255.0\n",
    "\n",
    "score = model.evaluate(X_test, y_test, verbose=2)\n",
    "print(\"%s: %.2f%%\" % (model.metrics_names[1], score[1]*100))"
   ]
  },
  {
   "cell_type": "code",
   "execution_count": null,
   "metadata": {},
   "outputs": [],
   "source": [
    "# from keras.utils.vis_utils import plot_model\n",
    "# plot_model(model, to_file='model_plot.png', show_shapes=True, show_layer_names=True,rankdir='LR')"
   ]
  },
  {
   "cell_type": "code",
   "execution_count": null,
   "metadata": {},
   "outputs": [],
   "source": [
    "from sklearn.metrics import confusion_matrix, accuracy_score\n",
    "import numpy as np\n",
    "y_pred = model.predict(X_test)\n",
    "rounded_labels=np.argmax(y_pred, axis=1)\n",
    "print(rounded_labels.shape)\n",
    "confusion = confusion_matrix(y_test, rounded_labels)"
   ]
  },
  {
   "cell_type": "code",
   "execution_count": null,
   "metadata": {},
   "outputs": [],
   "source": [
    "def plot_confusion_matrix(cm, classes,\n",
    "                        normalize=False,\n",
    "                        title='Confusion matrix',\n",
    "                        cmap=plt.cm.Blues):\n",
    "    \"\"\"\n",
    "    This function prints and plots the confusion matrix.\n",
    "    Normalization can be applied by setting `normalize=True`.\n",
    "    \"\"\"\n",
    "    plt.imshow(cm, interpolation='nearest', cmap=cmap)\n",
    "    plt.title(title)\n",
    "    plt.colorbar()\n",
    "    tick_marks = np.arange(len(classes))\n",
    "    plt.xticks(tick_marks, classes, rotation=45)\n",
    "    plt.yticks(tick_marks, classes)\n",
    "\n",
    "    if normalize:\n",
    "        cm = cm.astype('float') / cm.sum(axis=1)[:, np.newaxis]\n",
    "        print(\"Normalized confusion matrix\")\n",
    "    else:\n",
    "        print('Confusion matrix, without normalization')\n",
    "\n",
    "    print(cm)\n",
    "\n",
    "    thresh = cm.max() / 2.\n",
    "    for i, j in itertools.product(range(cm.shape[0]), range(cm.shape[1])):\n",
    "        plt.text(j, i, cm[i, j],\n",
    "            horizontalalignment=\"center\",\n",
    "            color=\"white\" if cm[i, j] > thresh else \"black\")\n",
    "\n",
    "    plt.tight_layout()\n",
    "    plt.ylabel('True label')\n",
    "    plt.xlabel('Predicted label')"
   ]
  },
  {
   "cell_type": "code",
   "execution_count": null,
   "metadata": {},
   "outputs": [],
   "source": [
    "import itertools\n",
    "Classes = [\"LR\", \"RL\", \"P\", \"B\", \"UD\", \"DU\"]\n",
    "plot_confusion_matrix(cm=confusion,title='Confusion Matrix', classes=Classes)\n",
    "#plot.savefig('plot_confusion_matrix.png')"
   ]
  },
  {
   "cell_type": "code",
   "execution_count": null,
   "metadata": {},
   "outputs": [],
   "source": []
  }
 ],
 "metadata": {
  "kernelspec": {
   "display_name": "Python 3",
   "language": "python",
   "name": "python3"
  },
  "language_info": {
   "codemirror_mode": {
    "name": "ipython",
    "version": 3
   },
   "file_extension": ".py",
   "mimetype": "text/x-python",
   "name": "python",
   "nbconvert_exporter": "python",
   "pygments_lexer": "ipython3",
   "version": "3.8.7"
  }
 },
 "nbformat": 4,
 "nbformat_minor": 4
}
