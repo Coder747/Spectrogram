{
 "cells": [
  {
   "cell_type": "code",
   "execution_count": 9,
   "metadata": {},
   "outputs": [],
   "source": [
    "import pickle\n",
    "pickle_in = open(\"dataset_pickle\\X.pickle\",\"rb\")\n",
    "X = pickle.load(pickle_in)\n",
    "\n",
    "X = X/255.0\n",
    "\n",
    "pickle_in = open(\"dataset_pickle\\y.pickle\",\"rb\")\n",
    "y = pickle.load(pickle_in)"
   ]
  },
  {
   "cell_type": "code",
   "execution_count": 10,
   "metadata": {},
   "outputs": [],
   "source": [
    "from sklearn.model_selection import train_test_split\n",
    "x_train, x_test, y_train, y_test = train_test_split(X, y, test_size = 0.3)\n"
   ]
  },
  {
   "cell_type": "code",
   "execution_count": 11,
   "metadata": {},
   "outputs": [
    {
     "name": "stdout",
     "output_type": "stream",
     "text": [
      "INFO:tensorflow:Using MirroredStrategy with devices ('/job:localhost/replica:0/task:0/device:GPU:0', '/job:localhost/replica:0/task:0/device:GPU:1')\n"
     ]
    }
   ],
   "source": [
    "#Setup Distrbuited training\n",
    "import tensorflow as tf\n",
    "strategy = tf.distribute.MirroredStrategy(cross_device_ops=tf.distribute.HierarchicalCopyAllReduce())   #Enables"
   ]
  },
  {
   "cell_type": "code",
   "execution_count": 25,
   "metadata": {
    "tags": []
   },
   "outputs": [
    {
     "name": "stdout",
     "output_type": "stream",
     "text": [
      "Model: \"sequential_8\"\n",
      "_________________________________________________________________\n",
      "Layer (type)                 Output Shape              Param #   \n",
      "=================================================================\n",
      "conv2d_38 (Conv2D)           (None, 100, 100, 32)      320       \n",
      "_________________________________________________________________\n",
      "max_pooling2d_38 (MaxPooling (None, 25, 24, 32)        0         \n",
      "_________________________________________________________________\n",
      "conv2d_39 (Conv2D)           (None, 25, 24, 32)        9248      \n",
      "_________________________________________________________________\n",
      "max_pooling2d_39 (MaxPooling (None, 13, 11, 32)        0         \n",
      "_________________________________________________________________\n",
      "conv2d_40 (Conv2D)           (None, 13, 11, 32)        9248      \n",
      "_________________________________________________________________\n",
      "max_pooling2d_40 (MaxPooling (None, 7, 5, 32)          0         \n",
      "_________________________________________________________________\n",
      "conv2d_41 (Conv2D)           (None, 7, 5, 32)          9248      \n",
      "_________________________________________________________________\n",
      "max_pooling2d_41 (MaxPooling (None, 3, 2, 32)          0         \n",
      "_________________________________________________________________\n",
      "conv2d_42 (Conv2D)           (None, 3, 2, 32)          9248      \n",
      "_________________________________________________________________\n",
      "max_pooling2d_42 (MaxPooling (None, 2, 1, 32)          0         \n",
      "_________________________________________________________________\n",
      "flatten_8 (Flatten)          (None, 64)                0         \n",
      "_________________________________________________________________\n",
      "dense_8 (Dense)              (None, 6)                 390       \n",
      "=================================================================\n",
      "Total params: 37,702\n",
      "Trainable params: 37,702\n",
      "Non-trainable params: 0\n",
      "_________________________________________________________________\n"
     ]
    }
   ],
   "source": [
    "from tensorflow.keras.preprocessing.image import ImageDataGenerator\n",
    "from tensorflow.keras.models import Sequential\n",
    "from tensorflow.keras import optimizers\n",
    "from tensorflow.keras.layers import Dense, Dropout, Activation, Flatten, Dropout\n",
    "from tensorflow.keras.layers import Conv2D, MaxPooling2D, AveragePooling2D\n",
    "from tensorflow.keras import regularizers\n",
    "from keras.callbacks import ReduceLROnPlateau, ModelCheckpoint, EarlyStopping, CSVLogger, TensorBoard\n",
    "from sklearn.model_selection import StratifiedKFold #for K-fold cross validation\n",
    "import numpy\n",
    "\n",
    "tf.random.set_seed(42)\n",
    "\n",
    "Resolution = 100\n",
    "\n",
    "# numpy.random.seed(7)\n",
    "kfold = StratifiedKFold(n_splits=5, shuffle=True, random_state=7)\n",
    "cvscores = []\n",
    "\n",
    "#for train, test in kfold.split(X, y):\n",
    "\n",
    "with strategy.scope():      #Enables multi-gpu\n",
    "    model = Sequential([\n",
    "        \n",
    "        Conv2D(filters=32, kernel_size=(3, 3), padding=\"same\" ,activation='relu', input_shape=(Resolution, Resolution, 1)),\n",
    "        MaxPooling2D(pool_size=(1, 5), strides=(4)),\n",
    "\n",
    "        Conv2D(filters=32, kernel_size=(3, 3),padding=\"same\" , activation='relu'),\n",
    "        MaxPooling2D(pool_size=(1, 4), strides=(2)),\n",
    "\n",
    "        Conv2D(filters=32, kernel_size=(3, 3),padding=\"same\" , activation='relu'),\n",
    "        MaxPooling2D(pool_size=(1, 2), strides=(2)),\n",
    "\n",
    "        Conv2D(filters=32, kernel_size=(3, 3),padding=\"same\" , activation='relu'),\n",
    "        MaxPooling2D(pool_size=(2, 2), strides=(2)),\n",
    "\n",
    "        Conv2D(filters=32, kernel_size=(3, 3),padding=\"same\" , activation='relu'),\n",
    "        MaxPooling2D(pool_size=(1, 2), strides=(2)),\n",
    "        \n",
    "        Flatten(),\n",
    "        #Dense(32, activation='relu'),\n",
    "\n",
    "        Dense(6, activation='softmax')\n",
    "    ])\n",
    "\n",
    "\n",
    "model.summary()\n",
    "\n",
    "model.compile(loss='sparse_categorical_crossentropy',\n",
    "            optimizer=optimizers.Adam(learning_rate=0.001),                  #gradient descent\n",
    "            metrics=['accuracy'])\n",
    "            \n",
    "\n",
    "lr_change = ReduceLROnPlateau(monitor=\"val_loss\", factor=0.5, patience=3, min_lr=0.000)\n",
    "early_stopping = EarlyStopping(monitor='val_loss', min_delta=0.01, patience=10, mode='min')\n",
    "callbacks = [lr_change,early_stopping]\n",
    "    #scores = model.evaluate(X[test], y[test], verbose=0)\n",
    "    #print(\"%s: %.2f%%\" % (model.metrics_names[1], scores[1]*100))\n",
    "    #cvscores.append(scores[1] * 100)\n",
    "#print(\"%.2f%% (+/- %.2f%%)\" % (numpy.mean(cvscores), numpy.std(cvscores)))    "
   ]
  },
  {
   "cell_type": "code",
   "execution_count": 26,
   "metadata": {
    "scrolled": true
   },
   "outputs": [
    {
     "name": "stdout",
     "output_type": "stream",
     "text": [
      "Epoch 1/200\n",
      "INFO:tensorflow:batch_all_reduce: 12 all-reduces with algorithm = hierarchical_copy, num_packs = 1\n",
      "INFO:tensorflow:batch_all_reduce: 12 all-reduces with algorithm = hierarchical_copy, num_packs = 1\n",
      "60/60 [==============================] - 3s 17ms/step - loss: 1.7951 - accuracy: 0.1311 - val_loss: 1.7922 - val_accuracy: 0.1375\n",
      "Epoch 2/200\n",
      "60/60 [==============================] - 1s 13ms/step - loss: 1.7909 - accuracy: 0.1833 - val_loss: 1.7795 - val_accuracy: 0.1875\n",
      "Epoch 3/200\n",
      "60/60 [==============================] - 1s 13ms/step - loss: 1.7133 - accuracy: 0.2640 - val_loss: 1.4082 - val_accuracy: 0.4333\n",
      "Epoch 4/200\n",
      "60/60 [==============================] - 1s 13ms/step - loss: 1.3640 - accuracy: 0.4065 - val_loss: 1.3063 - val_accuracy: 0.3500\n",
      "Epoch 5/200\n",
      "60/60 [==============================] - 1s 14ms/step - loss: 1.3139 - accuracy: 0.4236 - val_loss: 1.1515 - val_accuracy: 0.4792\n",
      "Epoch 6/200\n",
      "60/60 [==============================] - 1s 15ms/step - loss: 1.0513 - accuracy: 0.5810 - val_loss: 0.9635 - val_accuracy: 0.5667\n",
      "Epoch 7/200\n",
      "60/60 [==============================] - 1s 14ms/step - loss: 0.8927 - accuracy: 0.6323 - val_loss: 0.8290 - val_accuracy: 0.6542\n",
      "Epoch 8/200\n",
      "60/60 [==============================] - 1s 13ms/step - loss: 0.8424 - accuracy: 0.6407 - val_loss: 0.6827 - val_accuracy: 0.7292\n",
      "Epoch 9/200\n",
      "60/60 [==============================] - 1s 13ms/step - loss: 0.6988 - accuracy: 0.7356 - val_loss: 0.8075 - val_accuracy: 0.6667\n",
      "Epoch 10/200\n",
      "60/60 [==============================] - 1s 14ms/step - loss: 0.6898 - accuracy: 0.7197 - val_loss: 0.6826 - val_accuracy: 0.7125\n",
      "Epoch 11/200\n",
      "60/60 [==============================] - 1s 14ms/step - loss: 0.6392 - accuracy: 0.7549 - val_loss: 0.5716 - val_accuracy: 0.7917\n",
      "Epoch 12/200\n",
      "60/60 [==============================] - 1s 16ms/step - loss: 0.6503 - accuracy: 0.7298 - val_loss: 0.6612 - val_accuracy: 0.7083\n",
      "Epoch 13/200\n",
      "60/60 [==============================] - 1s 17ms/step - loss: 0.5688 - accuracy: 0.7861 - val_loss: 0.5449 - val_accuracy: 0.7917\n",
      "Epoch 14/200\n",
      "60/60 [==============================] - 1s 16ms/step - loss: 0.5456 - accuracy: 0.8195 - val_loss: 0.4763 - val_accuracy: 0.8417\n",
      "Epoch 15/200\n",
      "60/60 [==============================] - 1s 13ms/step - loss: 0.5099 - accuracy: 0.7941 - val_loss: 0.5435 - val_accuracy: 0.7958\n",
      "Epoch 16/200\n",
      "60/60 [==============================] - 1s 16ms/step - loss: 0.4335 - accuracy: 0.8539 - val_loss: 0.4788 - val_accuracy: 0.8083\n",
      "Epoch 17/200\n",
      "60/60 [==============================] - 1s 15ms/step - loss: 0.4281 - accuracy: 0.8408 - val_loss: 0.3903 - val_accuracy: 0.8708\n",
      "Epoch 18/200\n",
      "60/60 [==============================] - 1s 15ms/step - loss: 0.3801 - accuracy: 0.8816 - val_loss: 0.4164 - val_accuracy: 0.8500\n",
      "Epoch 19/200\n",
      "60/60 [==============================] - 1s 15ms/step - loss: 0.3454 - accuracy: 0.8851 - val_loss: 0.3422 - val_accuracy: 0.8708\n",
      "Epoch 20/200\n",
      "60/60 [==============================] - 1s 16ms/step - loss: 0.3355 - accuracy: 0.8862 - val_loss: 0.3574 - val_accuracy: 0.8667\n",
      "Epoch 21/200\n",
      "60/60 [==============================] - 1s 16ms/step - loss: 0.3148 - accuracy: 0.8855 - val_loss: 0.3374 - val_accuracy: 0.8792\n",
      "Epoch 22/200\n",
      "60/60 [==============================] - 1s 15ms/step - loss: 0.3257 - accuracy: 0.8816 - val_loss: 0.4627 - val_accuracy: 0.8208\n",
      "Epoch 23/200\n",
      "60/60 [==============================] - 1s 15ms/step - loss: 0.3917 - accuracy: 0.8631 - val_loss: 0.3086 - val_accuracy: 0.8958\n",
      "Epoch 24/200\n",
      "60/60 [==============================] - 1s 15ms/step - loss: 0.2925 - accuracy: 0.8882 - val_loss: 0.3119 - val_accuracy: 0.8708\n",
      "Epoch 25/200\n",
      "60/60 [==============================] - 1s 16ms/step - loss: 0.2687 - accuracy: 0.9095 - val_loss: 0.3004 - val_accuracy: 0.8917\n",
      "Epoch 26/200\n",
      "60/60 [==============================] - 1s 16ms/step - loss: 0.2113 - accuracy: 0.9306 - val_loss: 0.2999 - val_accuracy: 0.8792\n",
      "Epoch 27/200\n",
      "60/60 [==============================] - 1s 17ms/step - loss: 0.2348 - accuracy: 0.9026 - val_loss: 0.2603 - val_accuracy: 0.9125\n",
      "Epoch 28/200\n",
      "60/60 [==============================] - 1s 18ms/step - loss: 0.2389 - accuracy: 0.9079 - val_loss: 0.2425 - val_accuracy: 0.9083\n",
      "Epoch 29/200\n",
      "60/60 [==============================] - 1s 16ms/step - loss: 0.1909 - accuracy: 0.9324 - val_loss: 0.3827 - val_accuracy: 0.8542\n",
      "Epoch 30/200\n",
      "60/60 [==============================] - 1s 16ms/step - loss: 0.2359 - accuracy: 0.9249 - val_loss: 0.2367 - val_accuracy: 0.9042\n",
      "Epoch 31/200\n",
      "60/60 [==============================] - 1s 17ms/step - loss: 0.2801 - accuracy: 0.8873 - val_loss: 0.2543 - val_accuracy: 0.9000\n",
      "Epoch 32/200\n",
      "60/60 [==============================] - 1s 14ms/step - loss: 0.2139 - accuracy: 0.9256 - val_loss: 0.2366 - val_accuracy: 0.9083\n",
      "Epoch 33/200\n",
      "60/60 [==============================] - 1s 18ms/step - loss: 0.1865 - accuracy: 0.9269 - val_loss: 0.4413 - val_accuracy: 0.8625\n",
      "Epoch 34/200\n",
      "60/60 [==============================] - 1s 16ms/step - loss: 0.2370 - accuracy: 0.9065 - val_loss: 0.3723 - val_accuracy: 0.8833\n",
      "Epoch 35/200\n",
      "60/60 [==============================] - 1s 18ms/step - loss: 0.2184 - accuracy: 0.9227 - val_loss: 0.2815 - val_accuracy: 0.8708\n",
      "Epoch 36/200\n",
      "60/60 [==============================] - 1s 15ms/step - loss: 0.1956 - accuracy: 0.9293 - val_loss: 0.2219 - val_accuracy: 0.9208\n",
      "Epoch 37/200\n",
      "60/60 [==============================] - 1s 15ms/step - loss: 0.1456 - accuracy: 0.9388 - val_loss: 0.1940 - val_accuracy: 0.9250\n",
      "Epoch 38/200\n",
      "60/60 [==============================] - 1s 15ms/step - loss: 0.1260 - accuracy: 0.9542 - val_loss: 0.1934 - val_accuracy: 0.9250\n",
      "Epoch 39/200\n",
      "60/60 [==============================] - 1s 15ms/step - loss: 0.1397 - accuracy: 0.9399 - val_loss: 0.2576 - val_accuracy: 0.9042\n",
      "Epoch 40/200\n",
      "60/60 [==============================] - 1s 17ms/step - loss: 0.1596 - accuracy: 0.9235 - val_loss: 0.2165 - val_accuracy: 0.9208\n",
      "Epoch 41/200\n",
      "60/60 [==============================] - 1s 15ms/step - loss: 0.1385 - accuracy: 0.9560 - val_loss: 0.2152 - val_accuracy: 0.9125\n",
      "Epoch 42/200\n",
      "60/60 [==============================] - 1s 17ms/step - loss: 0.1371 - accuracy: 0.9577 - val_loss: 0.2245 - val_accuracy: 0.9125\n",
      "Epoch 43/200\n",
      "60/60 [==============================] - 1s 19ms/step - loss: 0.1410 - accuracy: 0.9620 - val_loss: 0.1816 - val_accuracy: 0.9292\n",
      "Epoch 44/200\n",
      "60/60 [==============================] - 1s 17ms/step - loss: 0.1059 - accuracy: 0.9646 - val_loss: 0.2025 - val_accuracy: 0.9125\n",
      "Epoch 45/200\n",
      "60/60 [==============================] - 1s 15ms/step - loss: 0.1184 - accuracy: 0.9565 - val_loss: 0.1995 - val_accuracy: 0.9083\n",
      "Epoch 46/200\n",
      "60/60 [==============================] - 1s 15ms/step - loss: 0.1239 - accuracy: 0.9549 - val_loss: 0.1886 - val_accuracy: 0.9125\n",
      "Epoch 47/200\n",
      "60/60 [==============================] - 1s 17ms/step - loss: 0.1056 - accuracy: 0.9642 - val_loss: 0.1767 - val_accuracy: 0.9250\n",
      "Epoch 48/200\n",
      "60/60 [==============================] - 1s 15ms/step - loss: 0.0876 - accuracy: 0.9698 - val_loss: 0.1749 - val_accuracy: 0.9250\n",
      "Epoch 49/200\n",
      "60/60 [==============================] - 1s 16ms/step - loss: 0.1030 - accuracy: 0.9663 - val_loss: 0.1855 - val_accuracy: 0.9250\n",
      "Epoch 50/200\n",
      "60/60 [==============================] - 1s 16ms/step - loss: 0.1211 - accuracy: 0.9515 - val_loss: 0.1854 - val_accuracy: 0.9250\n",
      "Epoch 51/200\n",
      "60/60 [==============================] - 1s 16ms/step - loss: 0.1051 - accuracy: 0.9583 - val_loss: 0.1905 - val_accuracy: 0.9208\n",
      "Epoch 52/200\n",
      "60/60 [==============================] - 1s 15ms/step - loss: 0.1079 - accuracy: 0.9682 - val_loss: 0.1793 - val_accuracy: 0.9333\n",
      "Epoch 53/200\n",
      "60/60 [==============================] - 1s 17ms/step - loss: 0.1115 - accuracy: 0.9608 - val_loss: 0.1745 - val_accuracy: 0.9292\n"
     ]
    }
   ],
   "source": [
    "history = model.fit(X, y, batch_size=16, epochs=200, validation_split=0.2,callbacks=callbacks)\n",
    "#history = model.fit(x_train, y_train, batch_size=16, epochs=200, validation_data=(x_test,y_test),callbacks=callbacks)"
   ]
  },
  {
   "cell_type": "code",
   "execution_count": 27,
   "metadata": {},
   "outputs": [
    {
     "name": "stdout",
     "output_type": "stream",
     "text": [
      "38/38 - 1s - loss: 0.1182 - accuracy: 0.9550\n",
      "38/38 [==============================] - 0s 7ms/step - loss: 0.1182 - accuracy: 0.9550\n"
     ]
    },
    {
     "data": {
      "image/png": "[encoded data removed]",
      "text/plain": [
       "<Figure size 432x288 with 1 Axes>"
      ]
     },
     "metadata": {
      "needs_background": "light"
     },
     "output_type": "display_data"
    }
   ],
   "source": [
    "import matplotlib.pyplot as plt\n",
    "plt.plot(history.history['accuracy'], label='accuracy')\n",
    "plt.plot(history.history['val_accuracy'], label = 'val_accuracy')\n",
    "plt.xlabel('Epoch')\n",
    "plt.ylabel('Accuracy')\n",
    "plt.ylim([0.5, 1])\n",
    "plt.legend(loc='lower right')\n",
    "\n",
    "test_loss, test_acc = model.evaluate(X,  y, verbose=2)\n",
    "preds = model.evaluate(X, y,verbose=1, sample_weight=None)"
   ]
  },
  {
   "cell_type": "code",
   "execution_count": 102,
   "metadata": {},
   "outputs": [
    {
     "name": "stdout",
     "output_type": "stream",
     "text": [
      "model saved\n"
     ]
    }
   ],
   "source": [
    "model.save(\"models\\model_habd2.h5\")\n",
    "print(\"model saved\")"
   ]
  },
  {
   "cell_type": "code",
   "execution_count": 24,
   "metadata": {},
   "outputs": [
    {
     "name": "stdout",
     "output_type": "stream",
     "text": [
      "Model: \"sequential_6\"\n",
      "_________________________________________________________________\n",
      "Layer (type)                 Output Shape              Param #   \n",
      "=================================================================\n",
      "conv2d_26 (Conv2D)           (None, 100, 100, 32)      320       \n",
      "_________________________________________________________________\n",
      "max_pooling2d_26 (MaxPooling (None, 25, 24, 32)        0         \n",
      "_________________________________________________________________\n",
      "conv2d_27 (Conv2D)           (None, 25, 24, 32)        9248      \n",
      "_________________________________________________________________\n",
      "max_pooling2d_27 (MaxPooling (None, 13, 11, 32)        0         \n",
      "_________________________________________________________________\n",
      "conv2d_28 (Conv2D)           (None, 13, 11, 32)        9248      \n",
      "_________________________________________________________________\n",
      "max_pooling2d_28 (MaxPooling (None, 7, 5, 32)          0         \n",
      "_________________________________________________________________\n",
      "conv2d_29 (Conv2D)           (None, 7, 5, 32)          9248      \n",
      "_________________________________________________________________\n",
      "max_pooling2d_29 (MaxPooling (None, 3, 2, 32)          0         \n",
      "_________________________________________________________________\n",
      "conv2d_30 (Conv2D)           (None, 3, 2, 32)          9248      \n",
      "_________________________________________________________________\n",
      "max_pooling2d_30 (MaxPooling (None, 2, 1, 32)          0         \n",
      "_________________________________________________________________\n",
      "flatten_6 (Flatten)          (None, 64)                0         \n",
      "_________________________________________________________________\n",
      "dense_7 (Dense)              (None, 6)                 390       \n",
      "=================================================================\n",
      "Total params: 37,702\n",
      "Trainable params: 37,702\n",
      "Non-trainable params: 0\n",
      "_________________________________________________________________\n"
     ]
    }
   ],
   "source": [
    "from keras.models import load_model\n",
    "# load model\n",
    "model = load_model('models\\model_habd.h5')\n",
    "# summarize model.\n",
    "#model.summary()"
   ]
  },
  {
   "cell_type": "code",
   "execution_count": null,
   "metadata": {},
   "outputs": [],
   "source": []
  },
  {
   "cell_type": "code",
   "execution_count": null,
   "metadata": {},
   "outputs": [],
   "source": []
  },
  {
   "cell_type": "code",
   "execution_count": 28,
   "metadata": {},
   "outputs": [
    {
     "name": "stdout",
     "output_type": "stream",
     "text": [
      "8/8 - 0s - loss: 1.0202 - accuracy: 0.7167\n",
      "accuracy: 71.67%\n"
     ]
    }
   ],
   "source": [
    "# evaluate the model\n",
    "import pickle\n",
    "pickle_in = open(\"dataset_pickle\\X_user.pickle\",\"rb\")\n",
    "X_test = pickle.load(pickle_in)\n",
    "\n",
    "pickle_in = open(\"dataset_pickle\\y_user.pickle\",\"rb\")\n",
    "y_test = pickle.load(pickle_in)\n",
    "\n",
    "X_test = X_test/255.0\n",
    "\n",
    "score = model.evaluate(X_test, y_test, verbose=2)\n",
    "print(\"%s: %.2f%%\" % (model.metrics_names[1], score[1]*100))"
   ]
  },
  {
   "cell_type": "code",
   "execution_count": 4,
   "metadata": {},
   "outputs": [
    {
     "data": {
      "image/png": "[encoded data removed]",
      "text/plain": [
       "<IPython.core.display.Image object>"
      ]
     },
     "execution_count": 4,
     "metadata": {},
     "output_type": "execute_result"
    }
   ],
   "source": [
    "from keras.utils.vis_utils import plot_model\n",
    "plot_model(model, to_file='model_plot.png', show_shapes=True, show_layer_names=True,rankdir='LR')"
   ]
  },
  {
   "cell_type": "code",
   "execution_count": 105,
   "metadata": {},
   "outputs": [
    {
     "name": "stdout",
     "output_type": "stream",
     "text": [
      "(240,)\n"
     ]
    }
   ],
   "source": [
    "from sklearn.metrics import confusion_matrix, accuracy_score\n",
    "import numpy as np\n",
    "y_pred = model.predict(X_test)\n",
    "rounded_labels=np.argmax(y_pred, axis=1)\n",
    "print(rounded_labels.shape)\n",
    "confusion = confusion_matrix(y_test, rounded_labels)"
   ]
  },
  {
   "cell_type": "code",
   "execution_count": null,
   "metadata": {},
   "outputs": [],
   "source": []
  },
  {
   "cell_type": "code",
   "execution_count": null,
   "metadata": {},
   "outputs": [],
   "source": []
  },
  {
   "cell_type": "code",
   "execution_count": 106,
   "metadata": {},
   "outputs": [],
   "source": [
    "def plot_confusion_matrix(cm, classes,\n",
    "                        normalize=False,\n",
    "                        title='Confusion matrix',\n",
    "                        cmap=plt.cm.Blues):\n",
    "    \"\"\"\n",
    "    This function prints and plots the confusion matrix.\n",
    "    Normalization can be applied by setting `normalize=True`.\n",
    "    \"\"\"\n",
    "    plt.imshow(cm, interpolation='nearest', cmap=cmap)\n",
    "    plt.title(title)\n",
    "    plt.colorbar()\n",
    "    tick_marks = np.arange(len(classes))\n",
    "    plt.xticks(tick_marks, classes, rotation=45)\n",
    "    plt.yticks(tick_marks, classes)\n",
    "\n",
    "    if normalize:\n",
    "        cm = cm.astype('float') / cm.sum(axis=1)[:, np.newaxis]\n",
    "        print(\"Normalized confusion matrix\")\n",
    "    else:\n",
    "        print('Confusion matrix, without normalization')\n",
    "\n",
    "    print(cm)\n",
    "\n",
    "    thresh = cm.max() / 2.\n",
    "    for i, j in itertools.product(range(cm.shape[0]), range(cm.shape[1])):\n",
    "        plt.text(j, i, cm[i, j],\n",
    "            horizontalalignment=\"center\",\n",
    "            color=\"white\" if cm[i, j] > thresh else \"black\")\n",
    "\n",
    "    plt.tight_layout()\n",
    "    plt.ylabel('True label')\n",
    "    plt.xlabel('Predicted label')"
   ]
  },
  {
   "cell_type": "code",
   "execution_count": 107,
   "metadata": {},
   "outputs": [
    {
     "name": "stdout",
     "output_type": "stream",
     "text": [
      "Confusion matrix, without normalization\n",
      "[[19 15  0  0  2  4]\n",
      " [ 1 37  0  0  2  0]\n",
      " [ 0  0 39  0  0  1]\n",
      " [ 0  2  0 37  1  0]\n",
      " [ 0  0  0  0 40  0]\n",
      " [ 3 12  0  0 17  8]]\n"
     ]
    },
    {
     "data": {
      "image/png": "[encoded data removed]",
      "text/plain": [
       "<Figure size 432x288 with 2 Axes>"
      ]
     },
     "metadata": {
      "needs_background": "light"
     },
     "output_type": "display_data"
    }
   ],
   "source": [
    "import itertools\n",
    "Classes = [\"LR\", \"RL\", \"P\", \"B\", \"UD\", \"DU\"]\n",
    "plot_confusion_matrix(cm=confusion,title='Confusion Matrix', classes=Classes)\n",
    "#plot.savefig('plot_confusion_matrix.png')"
   ]
  },
  {
   "cell_type": "code",
   "execution_count": null,
   "metadata": {},
   "outputs": [],
   "source": []
  }
 ],
 "metadata": {
  "kernelspec": {
   "display_name": "Python 3",
   "language": "python",
   "name": "python3"
  },
  "language_info": {
   "codemirror_mode": {
    "name": "ipython",
    "version": 3
   },
   "file_extension": ".py",
   "mimetype": "text/x-python",
   "name": "python",
   "nbconvert_exporter": "python",
   "pygments_lexer": "ipython3",
   "version": "3.8.7"
  }
 },
 "nbformat": 4,
 "nbformat_minor": 2
}
