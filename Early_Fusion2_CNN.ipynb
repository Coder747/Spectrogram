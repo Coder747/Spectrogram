{
 "cells": [
  {
   "cell_type": "code",
   "execution_count": 13,
   "metadata": {},
   "outputs": [
    {
     "name": "stdout",
     "output_type": "stream",
     "text": [
      "(1920, 100, 100, 1)\n",
      "(1920, 100, 100, 1)\n"
     ]
    }
   ],
   "source": [
    "import pickle\n",
    "import numpy as np\n",
    "pickle_in = open(\"dataset_pickle\\X_bot.pickle\",\"rb\")\n",
    "X_bot = pickle.load(pickle_in)\n",
    "\n",
    "pickle_in = open(\"dataset_pickle\\X_top.pickle\",\"rb\")\n",
    "X_top = pickle.load(pickle_in)\n",
    "\n",
    "pickle_in = open(\"dataset_pickle\\y_multimodal.pickle\",\"rb\")\n",
    "y = pickle.load(pickle_in)\n",
    "\n",
    "\n",
    "# X_top = X_top/255.0\n",
    "# X_bot = X_bot/255.0\n",
    "\n",
    "print(X_top.shape)\n",
    "print(X_bot.shape)"
   ]
  },
  {
   "cell_type": "code",
   "execution_count": 14,
   "metadata": {},
   "outputs": [],
   "source": [
    "# from sklearn.model_selection import train_test_split\n",
    "# x_train_comp = np.stack((X_top, X_bot), axis=4)\n",
    "# x_train, x_test, y_train, y_test = train_test_split(x_train_comp, y, test_size = 0.2)\n",
    "\n",
    "# #print(x_train.shape)\n",
    "# #print(x_test.shape)\n",
    "\n",
    "# x_train_top = x_train[:,:,:,:,0]\n",
    "# x_test_top= x_test[:,:,:,:,0]\n",
    "\n",
    "# x_train_bot = x_train[:,:,:,:,1]\n",
    "# x_test_bot = x_test[:,:,:,:,1]"
   ]
  },
  {
   "cell_type": "code",
   "execution_count": 15,
   "metadata": {
    "tags": []
   },
   "outputs": [
    {
     "name": "stdout",
     "output_type": "stream",
     "text": [
      "2 Physical GPUs, 2 Logical GPUs\n",
      "INFO:tensorflow:Using MirroredStrategy with devices ('/job:localhost/replica:0/task:0/device:GPU:0', '/job:localhost/replica:0/task:0/device:GPU:1')\n"
     ]
    }
   ],
   "source": [
    "import tensorflow as tf\n",
    "\n",
    "gpus = tf.config.experimental.list_physical_devices('GPU')\n",
    "if gpus:\n",
    "  try:\n",
    "    # Currently, memory growth needs to be the same across GPUs\n",
    "    for gpu in gpus:\n",
    "      tf.config.experimental.set_memory_growth(gpu, True)\n",
    "    logical_gpus = tf.config.experimental.list_logical_devices('GPU')\n",
    "    print(len(gpus), \"Physical GPUs,\", len(logical_gpus), \"Logical GPUs\")\n",
    "  except RuntimeError as e:\n",
    "    # Memory growth must be set before GPUs have been initialized\n",
    "    print(e)\n",
    "#Setup Distrbuited training\n",
    "strategy = tf.distribute.MirroredStrategy(cross_device_ops=tf.distribute.HierarchicalCopyAllReduce())   #Enables"
   ]
  },
  {
   "cell_type": "code",
   "execution_count": 21,
   "metadata": {
    "tags": []
   },
   "outputs": [
    {
     "ename": "TypeError",
     "evalue": "Cannot convert a symbolic Keras input/output to a numpy array. This error may indicate that you're trying to pass a symbolic value to a NumPy call, which is not supported. Or, you may be trying to pass Keras symbolic inputs/outputs to a TF API that does not register dispatching, preventing Keras from automatically converting the API call to a lambda layer in the Functional Model.",
     "output_type": "error",
     "traceback": [
      "\u001b[1;31m---------------------------------------------------------------------------\u001b[0m",
      "\u001b[1;31mTypeError\u001b[0m                                 Traceback (most recent call last)",
      "\u001b[1;32m<ipython-input-21-4071e5d17c0f>\u001b[0m in \u001b[0;36m<module>\u001b[1;34m\u001b[0m\n\u001b[0;32m     23\u001b[0m \u001b[0mbot_input\u001b[0m \u001b[1;33m=\u001b[0m \u001b[0mInput\u001b[0m\u001b[1;33m(\u001b[0m\u001b[0mX_bot\u001b[0m\u001b[1;33m.\u001b[0m\u001b[0mshape\u001b[0m\u001b[1;33m[\u001b[0m\u001b[1;36m1\u001b[0m\u001b[1;33m:\u001b[0m\u001b[1;36m4\u001b[0m\u001b[1;33m]\u001b[0m\u001b[1;33m)\u001b[0m\u001b[1;33m\u001b[0m\u001b[1;33m\u001b[0m\u001b[0m\n\u001b[0;32m     24\u001b[0m \u001b[1;33m\u001b[0m\u001b[0m\n\u001b[1;32m---> 25\u001b[1;33m \u001b[1;32mfor\u001b[0m \u001b[0mtrain\u001b[0m\u001b[1;33m,\u001b[0m\u001b[0mtest\u001b[0m \u001b[1;32min\u001b[0m \u001b[0mkfold\u001b[0m\u001b[1;33m.\u001b[0m\u001b[0msplit\u001b[0m\u001b[1;33m(\u001b[0m\u001b[1;33m(\u001b[0m\u001b[0mX_top\u001b[0m\u001b[1;33m,\u001b[0m\u001b[0mX_bot\u001b[0m\u001b[1;33m)\u001b[0m\u001b[1;33m,\u001b[0m \u001b[0my\u001b[0m\u001b[1;33m)\u001b[0m\u001b[1;33m:\u001b[0m\u001b[1;33m\u001b[0m\u001b[1;33m\u001b[0m\u001b[0m\n\u001b[0m\u001b[0;32m     26\u001b[0m     \u001b[1;32mwith\u001b[0m \u001b[0mstrategy\u001b[0m\u001b[1;33m.\u001b[0m\u001b[0mscope\u001b[0m\u001b[1;33m(\u001b[0m\u001b[1;33m)\u001b[0m\u001b[1;33m:\u001b[0m      \u001b[1;31m#Enables multi-gpu\u001b[0m\u001b[1;33m\u001b[0m\u001b[1;33m\u001b[0m\u001b[0m\n\u001b[0;32m     27\u001b[0m         \u001b[1;31m# a layer instance is callable on a tensor, and returns a tensor\u001b[0m\u001b[1;33m\u001b[0m\u001b[1;33m\u001b[0m\u001b[1;33m\u001b[0m\u001b[0m\n",
      "\u001b[1;32mc:\\users\\admin-group11\\appdata\\local\\programs\\python\\python38\\lib\\site-packages\\sklearn\\model_selection\\_split.py\u001b[0m in \u001b[0;36msplit\u001b[1;34m(self, X, y, groups)\u001b[0m\n\u001b[0;32m    729\u001b[0m         \u001b[0mto\u001b[0m \u001b[0man\u001b[0m \u001b[0minteger\u001b[0m\u001b[1;33m.\u001b[0m\u001b[1;33m\u001b[0m\u001b[1;33m\u001b[0m\u001b[0m\n\u001b[0;32m    730\u001b[0m         \"\"\"\n\u001b[1;32m--> 731\u001b[1;33m         \u001b[0my\u001b[0m \u001b[1;33m=\u001b[0m \u001b[0mcheck_array\u001b[0m\u001b[1;33m(\u001b[0m\u001b[0my\u001b[0m\u001b[1;33m,\u001b[0m \u001b[0mensure_2d\u001b[0m\u001b[1;33m=\u001b[0m\u001b[1;32mFalse\u001b[0m\u001b[1;33m,\u001b[0m \u001b[0mdtype\u001b[0m\u001b[1;33m=\u001b[0m\u001b[1;32mNone\u001b[0m\u001b[1;33m)\u001b[0m\u001b[1;33m\u001b[0m\u001b[1;33m\u001b[0m\u001b[0m\n\u001b[0m\u001b[0;32m    732\u001b[0m         \u001b[1;32mreturn\u001b[0m \u001b[0msuper\u001b[0m\u001b[1;33m(\u001b[0m\u001b[1;33m)\u001b[0m\u001b[1;33m.\u001b[0m\u001b[0msplit\u001b[0m\u001b[1;33m(\u001b[0m\u001b[0mX\u001b[0m\u001b[1;33m,\u001b[0m \u001b[0my\u001b[0m\u001b[1;33m,\u001b[0m \u001b[0mgroups\u001b[0m\u001b[1;33m)\u001b[0m\u001b[1;33m\u001b[0m\u001b[1;33m\u001b[0m\u001b[0m\n\u001b[0;32m    733\u001b[0m \u001b[1;33m\u001b[0m\u001b[0m\n",
      "\u001b[1;32mc:\\users\\admin-group11\\appdata\\local\\programs\\python\\python38\\lib\\site-packages\\sklearn\\utils\\validation.py\u001b[0m in \u001b[0;36minner_f\u001b[1;34m(*args, **kwargs)\u001b[0m\n\u001b[0;32m     61\u001b[0m             \u001b[0mextra_args\u001b[0m \u001b[1;33m=\u001b[0m \u001b[0mlen\u001b[0m\u001b[1;33m(\u001b[0m\u001b[0margs\u001b[0m\u001b[1;33m)\u001b[0m \u001b[1;33m-\u001b[0m \u001b[0mlen\u001b[0m\u001b[1;33m(\u001b[0m\u001b[0mall_args\u001b[0m\u001b[1;33m)\u001b[0m\u001b[1;33m\u001b[0m\u001b[1;33m\u001b[0m\u001b[0m\n\u001b[0;32m     62\u001b[0m             \u001b[1;32mif\u001b[0m \u001b[0mextra_args\u001b[0m \u001b[1;33m<=\u001b[0m \u001b[1;36m0\u001b[0m\u001b[1;33m:\u001b[0m\u001b[1;33m\u001b[0m\u001b[1;33m\u001b[0m\u001b[0m\n\u001b[1;32m---> 63\u001b[1;33m                 \u001b[1;32mreturn\u001b[0m \u001b[0mf\u001b[0m\u001b[1;33m(\u001b[0m\u001b[1;33m*\u001b[0m\u001b[0margs\u001b[0m\u001b[1;33m,\u001b[0m \u001b[1;33m**\u001b[0m\u001b[0mkwargs\u001b[0m\u001b[1;33m)\u001b[0m\u001b[1;33m\u001b[0m\u001b[1;33m\u001b[0m\u001b[0m\n\u001b[0m\u001b[0;32m     64\u001b[0m \u001b[1;33m\u001b[0m\u001b[0m\n\u001b[0;32m     65\u001b[0m             \u001b[1;31m# extra_args > 0\u001b[0m\u001b[1;33m\u001b[0m\u001b[1;33m\u001b[0m\u001b[1;33m\u001b[0m\u001b[0m\n",
      "\u001b[1;32mc:\\users\\admin-group11\\appdata\\local\\programs\\python\\python38\\lib\\site-packages\\sklearn\\utils\\validation.py\u001b[0m in \u001b[0;36mcheck_array\u001b[1;34m(array, accept_sparse, accept_large_sparse, dtype, order, copy, force_all_finite, ensure_2d, allow_nd, ensure_min_samples, ensure_min_features, estimator)\u001b[0m\n\u001b[0;32m    614\u001b[0m                     \u001b[0marray\u001b[0m \u001b[1;33m=\u001b[0m \u001b[0marray\u001b[0m\u001b[1;33m.\u001b[0m\u001b[0mastype\u001b[0m\u001b[1;33m(\u001b[0m\u001b[0mdtype\u001b[0m\u001b[1;33m,\u001b[0m \u001b[0mcasting\u001b[0m\u001b[1;33m=\u001b[0m\u001b[1;34m\"unsafe\"\u001b[0m\u001b[1;33m,\u001b[0m \u001b[0mcopy\u001b[0m\u001b[1;33m=\u001b[0m\u001b[1;32mFalse\u001b[0m\u001b[1;33m)\u001b[0m\u001b[1;33m\u001b[0m\u001b[1;33m\u001b[0m\u001b[0m\n\u001b[0;32m    615\u001b[0m                 \u001b[1;32melse\u001b[0m\u001b[1;33m:\u001b[0m\u001b[1;33m\u001b[0m\u001b[1;33m\u001b[0m\u001b[0m\n\u001b[1;32m--> 616\u001b[1;33m                     \u001b[0marray\u001b[0m \u001b[1;33m=\u001b[0m \u001b[0mnp\u001b[0m\u001b[1;33m.\u001b[0m\u001b[0masarray\u001b[0m\u001b[1;33m(\u001b[0m\u001b[0marray\u001b[0m\u001b[1;33m,\u001b[0m \u001b[0morder\u001b[0m\u001b[1;33m=\u001b[0m\u001b[0morder\u001b[0m\u001b[1;33m,\u001b[0m \u001b[0mdtype\u001b[0m\u001b[1;33m=\u001b[0m\u001b[0mdtype\u001b[0m\u001b[1;33m)\u001b[0m\u001b[1;33m\u001b[0m\u001b[1;33m\u001b[0m\u001b[0m\n\u001b[0m\u001b[0;32m    617\u001b[0m             \u001b[1;32mexcept\u001b[0m \u001b[0mComplexWarning\u001b[0m \u001b[1;32mas\u001b[0m \u001b[0mcomplex_warning\u001b[0m\u001b[1;33m:\u001b[0m\u001b[1;33m\u001b[0m\u001b[1;33m\u001b[0m\u001b[0m\n\u001b[0;32m    618\u001b[0m                 raise ValueError(\"Complex data not supported\\n\"\n",
      "\u001b[1;32mc:\\users\\admin-group11\\appdata\\local\\programs\\python\\python38\\lib\\site-packages\\numpy\\core\\_asarray.py\u001b[0m in \u001b[0;36masarray\u001b[1;34m(a, dtype, order)\u001b[0m\n\u001b[0;32m     81\u001b[0m \u001b[1;33m\u001b[0m\u001b[0m\n\u001b[0;32m     82\u001b[0m     \"\"\"\n\u001b[1;32m---> 83\u001b[1;33m     \u001b[1;32mreturn\u001b[0m \u001b[0marray\u001b[0m\u001b[1;33m(\u001b[0m\u001b[0ma\u001b[0m\u001b[1;33m,\u001b[0m \u001b[0mdtype\u001b[0m\u001b[1;33m,\u001b[0m \u001b[0mcopy\u001b[0m\u001b[1;33m=\u001b[0m\u001b[1;32mFalse\u001b[0m\u001b[1;33m,\u001b[0m \u001b[0morder\u001b[0m\u001b[1;33m=\u001b[0m\u001b[0morder\u001b[0m\u001b[1;33m)\u001b[0m\u001b[1;33m\u001b[0m\u001b[1;33m\u001b[0m\u001b[0m\n\u001b[0m\u001b[0;32m     84\u001b[0m \u001b[1;33m\u001b[0m\u001b[0m\n\u001b[0;32m     85\u001b[0m \u001b[1;33m\u001b[0m\u001b[0m\n",
      "\u001b[1;32m~\\AppData\\Roaming\\Python\\Python38\\site-packages\\tensorflow\\python\\keras\\engine\\keras_tensor.py\u001b[0m in \u001b[0;36m__array__\u001b[1;34m(self)\u001b[0m\n\u001b[0;32m    271\u001b[0m \u001b[1;33m\u001b[0m\u001b[0m\n\u001b[0;32m    272\u001b[0m   \u001b[1;32mdef\u001b[0m \u001b[0m__array__\u001b[0m\u001b[1;33m(\u001b[0m\u001b[0mself\u001b[0m\u001b[1;33m)\u001b[0m\u001b[1;33m:\u001b[0m\u001b[1;33m\u001b[0m\u001b[1;33m\u001b[0m\u001b[0m\n\u001b[1;32m--> 273\u001b[1;33m     raise TypeError(\n\u001b[0m\u001b[0;32m    274\u001b[0m         \u001b[1;34m'Cannot convert a symbolic Keras input/output to a numpy array. '\u001b[0m\u001b[1;33m\u001b[0m\u001b[1;33m\u001b[0m\u001b[0m\n\u001b[0;32m    275\u001b[0m         \u001b[1;34m'This error may indicate that you\\'re trying to pass a symbolic value '\u001b[0m\u001b[1;33m\u001b[0m\u001b[1;33m\u001b[0m\u001b[0m\n",
      "\u001b[1;31mTypeError\u001b[0m: Cannot convert a symbolic Keras input/output to a numpy array. This error may indicate that you're trying to pass a symbolic value to a NumPy call, which is not supported. Or, you may be trying to pass Keras symbolic inputs/outputs to a TF API that does not register dispatching, preventing Keras from automatically converting the API call to a lambda layer in the Functional Model."
     ]
    }
   ],
   "source": [
    "from tensorflow.keras.preprocessing.image import ImageDataGenerator\n",
    "from tensorflow.keras.models import Sequential, Model\n",
    "from tensorflow.keras.layers import Input\n",
    "from tensorflow.keras import optimizers\n",
    "from tensorflow.keras.layers import Dense, Dropout, Activation, Flatten, Dropout\n",
    "from tensorflow.keras.layers import Conv2D, MaxPooling2D\n",
    "from tensorflow.keras import regularizers\n",
    "from keras.callbacks import ReduceLROnPlateau, ModelCheckpoint, EarlyStopping, CSVLogger, TensorBoard\n",
    "from sklearn.model_selection import StratifiedKFold #for K-fold cross validation\n",
    "import numpy\n",
    "from keras.layers.merge import concatenate\n",
    "import datetime\n",
    "\n",
    "tf.random.set_seed(42)\n",
    "\n",
    "num_classes = 6\n",
    "\n",
    "numpy.random.seed(7)\n",
    "kfold = StratifiedKFold(n_splits=5, shuffle=True, random_state=7)\n",
    "cvscores = []\n",
    "\n",
    "top_input = Input(X_top.shape[1:4])\n",
    "bot_input = Input(X_bot.shape[1:4])\n",
    "\n",
    "for train,test in kfold.split((X_top,X_bot), y):\n",
    "    with strategy.scope():      #Enables multi-gpu\n",
    "        # a layer instance is callable on a tensor, and returns a tensor\n",
    "        top = Conv2D(filters=32, kernel_size=(3, 3), padding=\"same\" ,activation='relu')(top_input)\n",
    "        bot = Conv2D(filters=32, kernel_size=(3, 3), padding=\"same\" ,activation='relu')(bot_input)\n",
    "        z = concatenate([top, bot])\n",
    "        top = Conv2D(filters=32, kernel_size=(3, 3), padding=\"same\" ,activation='relu')(z)\n",
    "        top = MaxPooling2D(pool_size=(1, 4), strides=(2))(top)\n",
    "        top = Conv2D(filters=32, kernel_size=(3, 3), padding=\"same\" ,activation='relu')(top)\n",
    "        top = MaxPooling2D(pool_size=(1, 2), strides=(2))(top)\n",
    "        top = Conv2D(filters=32, kernel_size=(3, 3), padding=\"same\" ,activation='relu')(top)\n",
    "        top = MaxPooling2D(pool_size=(2, 2), strides=(2))(top)\n",
    "        top = Conv2D(filters=32, kernel_size=(3, 3), padding=\"same\" ,activation='relu')(top)\n",
    "        top = MaxPooling2D(pool_size=(1, 2), strides=(2))(top)\n",
    "        top = Flatten()(top)\n",
    "        y = Dense(6, activation='softmax')(top)\n",
    "\n",
    "        lr_change = ReduceLROnPlateau(monitor=\"val\", factor=0.5, patience=3, min_lr=0.000)\n",
    "        early_stopping = EarlyStopping(monitor='val', min_delta=0.01, patience=10, mode='min')\n",
    "\n",
    "        log_dir = \"logs/fit/\" + datetime.datetime.now().strftime(\"%Y%m%d-%H%M%S\")\n",
    "        tensorboard_callback = tf.keras.callbacks.TensorBoard(log_dir=log_dir, histogram_freq=1)\n",
    "        callbacks = [lr_change,early_stopping,tensorboard_callback]\n",
    "\n",
    "        model = Model(inputs=[top_input,bot_input], outputs=y)\n",
    "        model.compile(loss='sparse_categorical_crossentropy',\n",
    "                optimizer=optimizers.Adam(learning_rate=0.001),           \n",
    "                metrics=['accuracy'])\n",
    "        history = model.fit([X_top[train],X_bot[train]], y[train], batch_size=16, epochs=100,callbacks=callbacks)\n",
    "        scores = model.evaluate([X_top[test],X_bot[test]], y[test], verbose=0)\n",
    "        print(\"%s: %.2f%%\" % (model.metrics_names[1], scores[1]*100))\n",
    "        cvscores.append(scores[1] * 100)\n",
    "print(\"%.2f%% (+/- %.2f%%)\" % (numpy.mean(cvscores), numpy.std(cvscores)))\n",
    "#model.summary()"
   ]
  },
  {
   "cell_type": "code",
   "execution_count": 20,
   "metadata": {
    "tags": []
   },
   "outputs": [
    {
     "name": "stdout",
     "output_type": "stream",
     "text": [
      "Epoch 1/100\n",
      "INFO:tensorflow:batch_all_reduce: 14 all-reduces with algorithm = hierarchical_copy, num_packs = 1\n",
      "INFO:tensorflow:batch_all_reduce: 14 all-reduces with algorithm = hierarchical_copy, num_packs = 1\n",
      "84/84 [==============================] - 6s 22ms/step - loss: 2.8914 - accuracy: 0.1964 - val_loss: 1.2527 - val_accuracy: 0.5260\n",
      "Epoch 2/100\n",
      "84/84 [==============================] - 1s 14ms/step - loss: 1.0708 - accuracy: 0.6052 - val_loss: 0.8147 - val_accuracy: 0.6910\n",
      "Epoch 3/100\n",
      "84/84 [==============================] - 1s 15ms/step - loss: 0.7164 - accuracy: 0.6934 - val_loss: 0.6847 - val_accuracy: 0.7257\n",
      "Epoch 4/100\n",
      "84/84 [==============================] - 1s 15ms/step - loss: 0.5542 - accuracy: 0.7605 - val_loss: 0.6387 - val_accuracy: 0.7205\n",
      "Epoch 5/100\n",
      "84/84 [==============================] - 1s 15ms/step - loss: 0.4763 - accuracy: 0.8053 - val_loss: 0.5168 - val_accuracy: 0.7674\n",
      "Epoch 6/100\n",
      "84/84 [==============================] - 1s 15ms/step - loss: 0.5357 - accuracy: 0.7992 - val_loss: 0.4712 - val_accuracy: 0.8212\n",
      "Epoch 7/100\n",
      "84/84 [==============================] - 1s 15ms/step - loss: 0.3973 - accuracy: 0.8348 - val_loss: 0.5995 - val_accuracy: 0.7934\n",
      "Epoch 8/100\n",
      "84/84 [==============================] - 1s 15ms/step - loss: 0.3956 - accuracy: 0.8527 - val_loss: 0.4622 - val_accuracy: 0.8611\n",
      "Epoch 9/100\n",
      "84/84 [==============================] - 1s 15ms/step - loss: 0.2847 - accuracy: 0.8928 - val_loss: 0.3830 - val_accuracy: 0.8767\n",
      "Epoch 10/100\n",
      "84/84 [==============================] - 1s 16ms/step - loss: 0.2621 - accuracy: 0.9089 - val_loss: 0.3092 - val_accuracy: 0.8958\n",
      "Epoch 11/100\n",
      "84/84 [==============================] - 1s 15ms/step - loss: 0.2029 - accuracy: 0.9353 - val_loss: 0.3845 - val_accuracy: 0.8802\n",
      "Epoch 12/100\n",
      "84/84 [==============================] - 1s 15ms/step - loss: 0.1401 - accuracy: 0.9484 - val_loss: 0.4203 - val_accuracy: 0.9080\n",
      "Epoch 13/100\n",
      "84/84 [==============================] - 1s 15ms/step - loss: 0.2595 - accuracy: 0.8957 - val_loss: 0.3512 - val_accuracy: 0.8976\n",
      "Epoch 14/100\n",
      "84/84 [==============================] - 1s 14ms/step - loss: 0.1080 - accuracy: 0.9571 - val_loss: 0.3052 - val_accuracy: 0.9028\n",
      "Epoch 15/100\n",
      "84/84 [==============================] - 1s 16ms/step - loss: 0.0842 - accuracy: 0.9723 - val_loss: 0.2976 - val_accuracy: 0.9219\n",
      "Epoch 16/100\n",
      "84/84 [==============================] - 1s 15ms/step - loss: 0.0565 - accuracy: 0.9866 - val_loss: 0.3253 - val_accuracy: 0.9115\n",
      "Epoch 17/100\n",
      "84/84 [==============================] - 1s 15ms/step - loss: 0.0391 - accuracy: 0.9889 - val_loss: 0.3392 - val_accuracy: 0.9028\n",
      "Epoch 18/100\n",
      "84/84 [==============================] - 1s 14ms/step - loss: 0.0793 - accuracy: 0.9772 - val_loss: 0.2864 - val_accuracy: 0.9236\n",
      "Epoch 19/100\n",
      "84/84 [==============================] - 1s 14ms/step - loss: 0.0312 - accuracy: 0.9904 - val_loss: 0.2652 - val_accuracy: 0.9184\n",
      "Epoch 20/100\n",
      "84/84 [==============================] - 1s 15ms/step - loss: 0.0250 - accuracy: 0.9921 - val_loss: 0.3384 - val_accuracy: 0.9184\n",
      "Epoch 21/100\n",
      "84/84 [==============================] - 1s 14ms/step - loss: 0.0224 - accuracy: 0.9937 - val_loss: 0.3156 - val_accuracy: 0.9288\n",
      "Epoch 22/100\n",
      "84/84 [==============================] - 1s 15ms/step - loss: 0.0153 - accuracy: 0.9970 - val_loss: 0.3812 - val_accuracy: 0.9115\n",
      "Epoch 23/100\n",
      "84/84 [==============================] - 2s 18ms/step - loss: 0.0261 - accuracy: 0.9896 - val_loss: 0.2903 - val_accuracy: 0.9358\n",
      "Epoch 24/100\n",
      "84/84 [==============================] - 2s 19ms/step - loss: 0.0055 - accuracy: 1.0000 - val_loss: 0.2940 - val_accuracy: 0.9392\n",
      "Epoch 25/100\n",
      "84/84 [==============================] - 1s 15ms/step - loss: 0.0048 - accuracy: 1.0000 - val_loss: 0.3024 - val_accuracy: 0.9375\n",
      "Epoch 26/100\n",
      "84/84 [==============================] - 1s 16ms/step - loss: 0.0033 - accuracy: 1.0000 - val_loss: 0.3046 - val_accuracy: 0.9340\n",
      "Epoch 27/100\n",
      "84/84 [==============================] - 1s 16ms/step - loss: 0.0032 - accuracy: 1.0000 - val_loss: 0.3101 - val_accuracy: 0.9358\n",
      "Epoch 28/100\n",
      "84/84 [==============================] - 1s 15ms/step - loss: 0.0033 - accuracy: 1.0000 - val_loss: 0.3168 - val_accuracy: 0.9323\n",
      "Epoch 29/100\n",
      "84/84 [==============================] - 1s 16ms/step - loss: 0.0028 - accuracy: 1.0000 - val_loss: 0.3175 - val_accuracy: 0.9323\n"
     ]
    }
   ],
   "source": [
    "# history = model.fit(X, y, batch_size=16, epochs=200, validation_split=0.2,callbacks=callbacks)\n",
    "history = model.fit([x_train_top,x_train_bot], y_train, batch_size=16, epochs=100,callbacks=callbacks,\n",
    "                    validation_data=([x_test_top,x_test_bot],y_test))\n",
    "# history = model.fit(x_train, y_train, batch_size=16, epochs=200, validation_data=(x_test,y_test),callbacks=callbacks)"
   ]
  },
  {
   "cell_type": "code",
   "execution_count": 22,
   "metadata": {},
   "outputs": [
    {
     "name": "stdout",
     "output_type": "stream",
     "text": [
      "60/60 - 1s - loss: 0.0972 - accuracy: 0.9797\n",
      "60/60 [==============================] - 0s 7ms/step - loss: 0.0972 - accuracy: 0.9797\n"
     ]
    },
    {
     "data": {
      "image/png": "[encoded data removed]",
      "text/plain": [
       "<Figure size 432x288 with 1 Axes>"
      ]
     },
     "metadata": {
      "needs_background": "light"
     },
     "output_type": "display_data"
    }
   ],
   "source": [
    "import matplotlib.pyplot as plt\n",
    "plt.plot(history.history['accuracy'], label='accuracy')\n",
    "plt.plot(history.history['val_accuracy'], label = 'val_accuracy')\n",
    "plt.xlabel('Epoch')\n",
    "plt.ylabel('Accuracy')\n",
    "plt.ylim([0.5, 1])\n",
    "plt.legend(loc='lower right')\n",
    "\n",
    "test_loss, test_acc = model.evaluate([X_top,X_bot], y , verbose=2)\n",
    "preds = model.evaluate([X_top,X_bot], y,verbose=1, sample_weight=None)"
   ]
  },
  {
   "cell_type": "code",
   "execution_count": 23,
   "metadata": {},
   "outputs": [
    {
     "name": "stdout",
     "output_type": "stream",
     "text": [
      "model saved\n"
     ]
    }
   ],
   "source": [
    "model.save(\"models\\model_early_fusion2.h5\")\n",
    "print(\"model saved\")"
   ]
  },
  {
   "cell_type": "code",
   "execution_count": 24,
   "metadata": {},
   "outputs": [],
   "source": [
    "from keras.models import load_model\n",
    "# load model\n",
    "model = load_model('models\\model_early_fusion2.h5')\n",
    "# summarize model.\n",
    "#model.summary()"
   ]
  },
  {
   "cell_type": "code",
   "execution_count": 27,
   "metadata": {
    "scrolled": true,
    "tags": []
   },
   "outputs": [
    {
     "name": "stdout",
     "output_type": "stream",
     "text": [
      "8/8 - 0s - loss: 51.2239 - accuracy: 0.1667\n",
      "accuracy: 16.67%\n"
     ]
    }
   ],
   "source": [
    "# evaluate the model\n",
    "import pickle\n",
    "pickle_in = open(\"dataset_pickle\\X_bot_user.pickle\",\"rb\")\n",
    "X_test_bot = pickle.load(pickle_in)\n",
    "\n",
    "pickle_in = open(\"dataset_pickle\\X_top_user.pickle\",\"rb\")\n",
    "X_test_top = pickle.load(pickle_in)\n",
    "\n",
    "pickle_in = open(\"dataset_pickle\\y_multimodal_user.pickle\",\"rb\")\n",
    "y_test = pickle.load(pickle_in)\n",
    "\n",
    "# X_test_bot = X_test_bot/255.0\n",
    "# X_test_top = X_test_top/255.0\n",
    "\n",
    "score = model.evaluate([X_test_top,X_test_bot], y_test, verbose=2)\n",
    "print(\"%s: %.2f%%\" % (model.metrics_names[1], score[1]*100))"
   ]
  },
  {
   "cell_type": "code",
   "execution_count": 22,
   "metadata": {},
   "outputs": [],
   "source": [
    "# from keras.utils.vis_utils import plot_model\n",
    "# plot_model(model, to_file='model_plot.png', show_shapes=True, show_layer_names=True,rankdir='LR')"
   ]
  },
  {
   "cell_type": "code",
   "execution_count": 10,
   "metadata": {},
   "outputs": [
    {
     "name": "stdout",
     "output_type": "stream",
     "text": [
      "(240,)\n"
     ]
    }
   ],
   "source": [
    "from sklearn.metrics import confusion_matrix, accuracy_score\n",
    "import numpy as np\n",
    "y_pred = model.predict(X_test)\n",
    "rounded_labels=np.argmax(y_pred, axis=1)\n",
    "print(rounded_labels.shape)\n",
    "confusion = confusion_matrix(y_test, rounded_labels)"
   ]
  },
  {
   "cell_type": "code",
   "execution_count": 11,
   "metadata": {},
   "outputs": [],
   "source": [
    "def plot_confusion_matrix(cm, classes,\n",
    "                        normalize=False,\n",
    "                        title='Confusion matrix',\n",
    "                        cmap=plt.cm.Blues):\n",
    "    \"\"\"\n",
    "    This function prints and plots the confusion matrix.\n",
    "    Normalization can be applied by setting `normalize=True`.\n",
    "    \"\"\"\n",
    "    plt.imshow(cm, interpolation='nearest', cmap=cmap)\n",
    "    plt.title(title)\n",
    "    plt.colorbar()\n",
    "    tick_marks = np.arange(len(classes))\n",
    "    plt.xticks(tick_marks, classes, rotation=45)\n",
    "    plt.yticks(tick_marks, classes)\n",
    "\n",
    "    if normalize:\n",
    "        cm = cm.astype('float') / cm.sum(axis=1)[:, np.newaxis]\n",
    "        print(\"Normalized confusion matrix\")\n",
    "    else:\n",
    "        print('Confusion matrix, without normalization')\n",
    "\n",
    "    print(cm)\n",
    "\n",
    "    thresh = cm.max() / 2.\n",
    "    for i, j in itertools.product(range(cm.shape[0]), range(cm.shape[1])):\n",
    "        plt.text(j, i, cm[i, j],\n",
    "            horizontalalignment=\"center\",\n",
    "            color=\"white\" if cm[i, j] > thresh else \"black\")\n",
    "\n",
    "    plt.tight_layout()\n",
    "    plt.ylabel('True label')\n",
    "    plt.xlabel('Predicted label')"
   ]
  },
  {
   "cell_type": "code",
   "execution_count": 12,
   "metadata": {},
   "outputs": [
    {
     "name": "stdout",
     "output_type": "stream",
     "text": [
      "Confusion matrix, without normalization\n",
      "[[35  0  0  0  3  2]\n",
      " [ 0 31  1  0  7  1]\n",
      " [ 0  0 40  0  0  0]\n",
      " [ 0  0  0 40  0  0]\n",
      " [ 1  5  0  0 34  0]\n",
      " [ 1  0  0  0  1 38]]\n"
     ]
    },
    {
     "data": {
      "image/png": "[encoded data removed]",
      "text/plain": [
       "<Figure size 432x288 with 2 Axes>"
      ]
     },
     "metadata": {
      "needs_background": "light"
     },
     "output_type": "display_data"
    }
   ],
   "source": [
    "import itertools\n",
    "Classes = [\"LR\", \"RL\", \"P\", \"B\", \"UD\", \"DU\"]\n",
    "plot_confusion_matrix(cm=confusion,title='Confusion Matrix', classes=Classes)\n",
    "#plot.savefig('plot_confusion_matrix.png')"
   ]
  },
  {
   "cell_type": "code",
   "execution_count": null,
   "metadata": {},
   "outputs": [],
   "source": []
  }
 ],
 "metadata": {
  "kernelspec": {
   "display_name": "Python 3",
   "language": "python",
   "name": "python3"
  },
  "language_info": {
   "codemirror_mode": {
    "name": "ipython",
    "version": 3
   },
   "file_extension": ".py",
   "mimetype": "text/x-python",
   "name": "python",
   "nbconvert_exporter": "python",
   "pygments_lexer": "ipython3",
   "version": "3.8.7"
  }
 },
 "nbformat": 4,
 "nbformat_minor": 4
}