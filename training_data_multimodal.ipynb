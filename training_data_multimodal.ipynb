{
 "cells": [
  {
   "cell_type": "code",
   "execution_count": 41,
   "metadata": {},
   "outputs": [],
   "source": [
    "#importing the libraries\n",
    "import os \n",
    "import cv2\n",
    "import numpy as np\n",
    "#np.random.seed(1337)\n",
    "import matplotlib.pyplot as plt\n",
    "training_data_test ={}"
   ]
  },
  {
   "cell_type": "code",
   "execution_count": 42,
   "metadata": {},
   "outputs": [],
   "source": [
    "#setting the path to the directory containing the pics (images = 600) (images2= 1200)\n",
    "dataset_dir = 'C:\\\\Users\\\\Admin-Group11\\\\Desktop\\\\Sonar_CNN\\\\Images_Mono'\n",
    "Classes = [\"LR\", \"RL\", \"P\", \"B\", \"UD\", \"DU\"]\n"
   ]
  },
  {
   "cell_type": "code",
   "execution_count": 43,
   "metadata": {},
   "outputs": [
    {
     "name": "stdout",
     "output_type": "stream",
     "text": [
      "C:\\Users\\Admin-Group11\\Desktop\\Sonar_CNN\\Images_Mono\\LR\n",
      "C:\\Users\\Admin-Group11\\Desktop\\Sonar_CNN\\Images_Mono\\RL\n",
      "C:\\Users\\Admin-Group11\\Desktop\\Sonar_CNN\\Images_Mono\\P\n",
      "C:\\Users\\Admin-Group11\\Desktop\\Sonar_CNN\\Images_Mono\\B\n",
      "C:\\Users\\Admin-Group11\\Desktop\\Sonar_CNN\\Images_Mono\\UD\n",
      "C:\\Users\\Admin-Group11\\Desktop\\Sonar_CNN\\Images_Mono\\DU\n"
     ]
    }
   ],
   "source": [
    "training_data = []\n",
    "Resolution = 100\n",
    "def create_training_data():\n",
    "    # count = 0\n",
    "    for category in Classes:\n",
    "        path = os.path.join(dataset_dir, category) #path to classes dir\n",
    "        print(path)\n",
    "        #class_num=[]\n",
    "        #class_num = Classes[count]\n",
    "        class_num = Classes.index(category)# change class names into indexes\n",
    "        # count+=1\n",
    "    \n",
    "        for img in os.listdir(path + '\\\\bot\\\\' + category):\n",
    "            try:\n",
    "                new_path = path + '\\\\bot\\\\' + category\n",
    "                pic = cv2.imread(os.path.join(new_path,img), cv2.IMREAD_GRAYSCALE)\n",
    "                bot_pic = cv2.resize(pic, (Resolution, Resolution))\n",
    "                \n",
    "                new_path = path + '\\\\top\\\\' + category\n",
    "                pic = cv2.imread(os.path.join(new_path,img), cv2.IMREAD_GRAYSCALE)\n",
    "                top_pic = cv2.resize(pic, (Resolution, Resolution))\n",
    "                #pic = cv2.cvtColor(pic,cv2.COLOR_BGR2RGB)  #make image rgb\n",
    "                \n",
    "                training_data.append([bot_pic, top_pic, class_num]) # map the pic to its label index\n",
    "               \n",
    "                #plt.imshow(new_pic, cmap='gray')  # graph it\n",
    "                #plt.show()  # display!\n",
    "            except Exception as e:\n",
    "                print(\"pic darbet\")\n",
    "\n",
    "            #break\n",
    "        #break\n",
    "\n",
    "create_training_data()\n"
   ]
  },
  {
   "cell_type": "code",
   "execution_count": 44,
   "metadata": {},
   "outputs": [],
   "source": [
    "import random\n",
    "random.shuffle(training_data)"
   ]
  },
  {
   "cell_type": "code",
   "execution_count": 24,
   "metadata": {},
   "outputs": [
    {
     "ename": "SyntaxError",
     "evalue": "invalid syntax (<ipython-input-24-3f153346c400>, line 2)",
     "output_type": "error",
     "traceback": [
      "\u001b[1;36m  File \u001b[1;32m\"<ipython-input-24-3f153346c400>\"\u001b[1;36m, line \u001b[1;32m2\u001b[0m\n\u001b[1;33m    print(sample[][][3])\u001b[0m\n\u001b[1;37m                 ^\u001b[0m\n\u001b[1;31mSyntaxError\u001b[0m\u001b[1;31m:\u001b[0m invalid syntax\n"
     ]
    }
   ],
   "source": []
  },
  {
   "cell_type": "code",
   "execution_count": 45,
   "metadata": {},
   "outputs": [],
   "source": [
    "X_bot = []\n",
    "X_top=[]\n",
    "y = []\n"
   ]
  },
  {
   "cell_type": "code",
   "execution_count": 46,
   "metadata": {},
   "outputs": [],
   "source": [
    "for bot,top,label in training_data:\n",
    "    X_bot.append(bot)\n",
    "    X_top.append(top)\n",
    "    y.append(label)\n",
    "\n",
    "X_bot = np.array(X_bot).reshape(-1,Resolution,Resolution, 1)\n",
    "X_top = np.array(X_top).reshape(-1,Resolution,Resolution, 1)\n",
    "y = np.array(y)\n"
   ]
  },
  {
   "cell_type": "code",
   "execution_count": 47,
   "metadata": {},
   "outputs": [],
   "source": [
    "import pickle\n",
    "pickle_out = open(\"dataset_pickle\\X_bot.pickle\",\"wb\")\n",
    "pickle.dump(X_bot, pickle_out)\n",
    "pickle_out.close()\n",
    "\n",
    "pickle_out = open(\"dataset_pickle\\X_top.pickle\",\"wb\")\n",
    "pickle.dump(X_top, pickle_out)\n",
    "pickle_out.close()\n",
    "\n",
    "pickle_out = open(\"dataset_pickle\\y_multimodal.pickle\",\"wb\")\n",
    "pickle.dump(y, pickle_out)\n",
    "pickle_out.close()"
   ]
  },
  {
   "cell_type": "code",
   "execution_count": 48,
   "metadata": {},
   "outputs": [
    {
     "name": "stdout",
     "output_type": "stream",
     "text": [
      "(1200, 100, 100, 1)\n"
     ]
    }
   ],
   "source": [
    "print(X_top.shape)"
   ]
  },
  {
   "cell_type": "code",
   "execution_count": null,
   "metadata": {},
   "outputs": [],
   "source": []
  }
 ],
 "metadata": {
  "kernelspec": {
   "display_name": "Python 3",
   "language": "python",
   "name": "python3"
  },
  "language_info": {
   "codemirror_mode": {
    "name": "ipython",
    "version": 3
   },
   "file_extension": ".py",
   "mimetype": "text/x-python",
   "name": "python",
   "nbconvert_exporter": "python",
   "pygments_lexer": "ipython3",
   "version": "3.8.7"
  }
 },
 "nbformat": 4,
 "nbformat_minor": 2
}
