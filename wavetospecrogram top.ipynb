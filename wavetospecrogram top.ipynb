{
 "cells": [
  {
   "cell_type": "code",
   "execution_count": 1,
   "metadata": {
    "scrolled": false
   },
   "outputs": [],
   "source": [
    "#Libraries#\n",
    "###########\n",
    "import os\n",
    "import numpy as np\n",
    "import matplotlib.pyplot as plt\n",
    "\n",
    "#for loading and visualizing audio files\n",
    "import librosa\n",
    "import librosa.display\n",
    "\n",
    "#to play audio\n",
    "import IPython.display as ipd"
   ]
  },
  {
   "cell_type": "code",
   "execution_count": 32,
   "metadata": {
    "scrolled": false
   },
   "outputs": [],
   "source": [
    "def load_files(folder_name):\n",
    "    audio_fpath = folder_name\n",
    "    files = librosa.util.find_files(audio_fpath, ext=['wav'])\n",
    "    files = np.asarray(files)\n",
    "    counter = 1\n",
    "\n",
    "    for y in files:\n",
    "        print(y)\n",
    "        data, sr = librosa.load(y, sr=44100)\n",
    "        X = librosa.stft(data)\n",
    "        Xdb = librosa.amplitude_to_db(abs(X))\n",
    "        librosa.display.specshow(Xdb, sr=sr, x_axis='time', y_axis='hz')\n",
    "        #plt.colorbar()\n",
    "        plt.set_cmap('viridis')\n",
    "        plt.ylim((19700, 20300))\n",
    "        plt.xlim((1.3,2.7))\n",
    "        plt.axis('off')\n",
    "        #plt.savefig(\"Images_User_Mono/Bot/UD/UD\" + str(counter) + \".png\",dpi=300)\n",
    "        counter+=1\n",
    "        plt.show()\n",
    "        break\n",
    "        \n"
   ]
  },
  {
   "cell_type": "code",
   "execution_count": 33,
   "metadata": {
    "scrolled": false
   },
   "outputs": [
    {
     "name": "stdout",
     "output_type": "stream",
     "text": [
      "C:\\Users\\Admin-Group11\\Desktop\\Sonar_CNN\\User_Mono\\UD\\bot\\1617559392.wav_bot.wav\n"
     ]
    },
    {
     "data": {
      "image/png": "[encoded data removed]",
      "text/plain": [
       "<Figure size 432x288 with 1 Axes>"
      ]
     },
     "metadata": {
      "needs_background": "light"
     },
     "output_type": "display_data"
    }
   ],
   "source": [
    "#Load audio\n",
    "load_files(\"C:\\\\Users\\Admin-Group11\\Desktop\\Sonar_CNN\\\\User_Mono\\\\UD\\\\bot\")\n"
   ]
  },
  {
   "cell_type": "code",
   "execution_count": null,
   "metadata": {
    "scrolled": false
   },
   "outputs": [],
   "source": []
  }
 ],
 "metadata": {
  "kernelspec": {
   "display_name": "Python 3",
   "language": "python",
   "name": "python3"
  },
  "language_info": {
   "codemirror_mode": {
    "name": "ipython",
    "version": 3
   },
   "file_extension": ".py",
   "mimetype": "text/x-python",
   "name": "python",
   "nbconvert_exporter": "python",
   "pygments_lexer": "ipython3",
   "version": "3.8.7"
  }
 },
 "nbformat": 4,
 "nbformat_minor": 4
}
